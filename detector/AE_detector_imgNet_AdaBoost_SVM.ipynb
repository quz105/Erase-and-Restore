{
 "cells": [
  {
   "cell_type": "code",
   "execution_count": 1,
   "metadata": {},
   "outputs": [
    {
     "name": "stderr",
     "output_type": "stream",
     "text": [
      "/home/fzuo/anaconda3/lib/python3.6/site-packages/sklearn/ensemble/weight_boosting.py:29: DeprecationWarning: numpy.core.umath_tests is an internal NumPy module and should not be imported. It will be removed in a future NumPy release.\n",
      "  from numpy.core.umath_tests import inner1d\n"
     ]
    }
   ],
   "source": [
    "import pickle\n",
    "import numpy as np\n",
    "from sklearn.externals import joblib\n",
    "from sklearn.ensemble import AdaBoostClassifier\n",
    "from sklearn.tree import DecisionTreeClassifier\n",
    "from sklearn.svm import SVC"
   ]
  },
  {
   "cell_type": "markdown",
   "metadata": {},
   "source": [
    "## Benign examples"
   ]
  },
  {
   "cell_type": "code",
   "execution_count": 2,
   "metadata": {},
   "outputs": [
    {
     "name": "stdout",
     "output_type": "stream",
     "text": [
      "(30000, 120)\n",
      "(24000, 120)\n",
      "(6000, 120)\n"
     ]
    }
   ],
   "source": [
    "with open('/imgNet/pca/rd_by_pca_ben_matrix_120D.pkl', 'rb') as handler:\n",
    "    x_ben_imgs = pickle.load(handler)\n",
    "print(x_ben_imgs.shape)\n",
    "\n",
    "X_train = x_ben_imgs[:24000]\n",
    "X_test = x_ben_imgs[24000:30000]\n",
    "print(X_train.shape)\n",
    "print(X_test.shape)"
   ]
  },
  {
   "cell_type": "markdown",
   "metadata": {},
   "source": [
    "## Adversarial examples"
   ]
  },
  {
   "cell_type": "code",
   "execution_count": 3,
   "metadata": {},
   "outputs": [],
   "source": [
    "#CW (gamma = 0.0, 0.4, 0.1)\n",
    "with open('/imgNet/pca/cw00/rd_by_pca_adv_00_matrix_120D.pkl', 'rb') as handler:\n",
    "    x_adv_imgs_00 = pickle.load(handler)\n",
    "\n",
    "with open('/imgNet/pca/cw04/rd_by_pca_adv_04_matrix_120D.pkl', 'rb') as handler:\n",
    "    x_adv_imgs_04 = pickle.load(handler)\n",
    "\n",
    "with open('/imgNet/pca/cw10/rd_by_pca_adv_10_matrix_120D.pkl', 'rb') as handler:\n",
    "    x_adv_imgs_10 = pickle.load(handler)\n",
    "    \n",
    "#DeepFool\n",
    "with open('/imgNet/pca/dfool/rd_by_pca_adv_df_matrix_120D.pkl', 'rb') as handler:\n",
    "    x_adv_imgs_df = pickle.load(handler)"
   ]
  },
  {
   "cell_type": "markdown",
   "metadata": {},
   "source": [
    "## Data split"
   ]
  },
  {
   "cell_type": "code",
   "execution_count": 4,
   "metadata": {},
   "outputs": [],
   "source": [
    "X_train = np.concatenate((X_train, x_adv_imgs_00[:4000]))\n",
    "X_train = np.concatenate((X_train, x_adv_imgs_04[:4000]))\n",
    "X_train = np.concatenate((X_train, x_adv_imgs_10[:4000]))\n",
    "X_train = np.concatenate((X_train, x_adv_imgs_df[:12000]))\n",
    "\n",
    "X_test = np.concatenate((X_test, x_adv_imgs_00[4000:5000]))\n",
    "X_test = np.concatenate((X_test, x_adv_imgs_04[4000:5000]))\n",
    "X_test = np.concatenate((X_test, x_adv_imgs_10[4000:5000]))\n",
    "X_test = np.concatenate((X_test, x_adv_imgs_df[12000:15000]))\n",
    "\n",
    "y_train = np.append(np.zeros(24000), np.ones(24000))\n",
    "y_test = np.append(np.zeros(6000), np.ones(6000))"
   ]
  },
  {
   "cell_type": "code",
   "execution_count": 5,
   "metadata": {},
   "outputs": [
    {
     "name": "stdout",
     "output_type": "stream",
     "text": [
      "(48000, 120)\n",
      "(12000, 120)\n",
      "(48000,)\n",
      "(12000,)\n"
     ]
    }
   ],
   "source": [
    "print(X_train.shape)\n",
    "print(X_test.shape)\n",
    "\n",
    "print(y_train.shape)\n",
    "print(y_test.shape)"
   ]
  },
  {
   "cell_type": "markdown",
   "metadata": {},
   "source": [
    "## detector based on AdaBoost "
   ]
  },
  {
   "cell_type": "code",
   "execution_count": 6,
   "metadata": {},
   "outputs": [
    {
     "name": "stdout",
     "output_type": "stream",
     "text": [
      "0.9730625\n",
      "0.9715\n"
     ]
    }
   ],
   "source": [
    "bdt = AdaBoostClassifier(DecisionTreeClassifier(max_depth=1),\n",
    "                         algorithm=\"SAMME\",\n",
    "                         n_estimators=200)\n",
    "\n",
    "bdt.fit(X_train, y_train)\n",
    "\n",
    "print(bdt.score(X_train, y_train))\n",
    "print(bdt.score(X_test, y_test))"
   ]
  },
  {
   "cell_type": "code",
   "execution_count": 7,
   "metadata": {},
   "outputs": [],
   "source": [
    "joblib.dump(bdt,'adaboost_imgNet_ResNet50_cw_df.pkl')\n",
    "clf_bdt=joblib.load('adaboost_imgNet_ResNet50_cw_df.pkl')"
   ]
  },
  {
   "cell_type": "code",
   "execution_count": 8,
   "metadata": {},
   "outputs": [
    {
     "name": "stdout",
     "output_type": "stream",
     "text": [
      "0.9725\n",
      "0.989\n",
      "0.992\n",
      "0.993\n",
      "0.9496666666666667\n"
     ]
    }
   ],
   "source": [
    "print(clf_bdt.score(X_test[:6000], y_test[:6000]))               #97.3%\n",
    "print(clf_bdt.score(X_test[6000:7000], y_test[6000:7000]))       #98.9%\n",
    "print(clf_bdt.score(X_test[7000:8000], y_test[7000:8000]))       #99.2%\n",
    "print(clf_bdt.score(X_test[8000:9000], y_test[8000:9000]))       #99.3%\n",
    "print(clf_bdt.score(X_test[9000:12000], y_test[9000:12000]))     #95.0%"
   ]
  },
  {
   "cell_type": "markdown",
   "metadata": {},
   "source": [
    "## detector based on SVM"
   ]
  },
  {
   "cell_type": "code",
   "execution_count": 9,
   "metadata": {},
   "outputs": [
    {
     "data": {
      "text/plain": [
       "SVC(C=5, cache_size=200, class_weight=None, coef0=0.0,\n",
       "  decision_function_shape='ovr', degree=3, gamma=0.01, kernel='rbf',\n",
       "  max_iter=-1, probability=False, random_state=None, shrinking=True,\n",
       "  tol=0.001, verbose=False)"
      ]
     },
     "execution_count": 9,
     "metadata": {},
     "output_type": "execute_result"
    }
   ],
   "source": [
    "svc_p = SVC(kernel = 'rbf', gamma = 0.01, C = 5)\n",
    "svc_p.fit(X_train, y_train)"
   ]
  },
  {
   "cell_type": "code",
   "execution_count": 10,
   "metadata": {},
   "outputs": [],
   "source": [
    "joblib.dump(svc_p,'svm_imgNet_ResNet50_cw_df.pkl')\n",
    "clf_svc=joblib.load('svm_imgNet_ResNet50_cw_df.pkl')"
   ]
  },
  {
   "cell_type": "code",
   "execution_count": 11,
   "metadata": {},
   "outputs": [
    {
     "name": "stdout",
     "output_type": "stream",
     "text": [
      "0.9651666666666666\n",
      "0.979\n",
      "0.984\n",
      "0.987\n",
      "0.9373333333333334\n"
     ]
    }
   ],
   "source": [
    "print(clf_svc.score(X_test[:6000], y_test[:6000]))            #96.5%\n",
    "print(clf_svc.score(X_test[6000:7000], y_test[6000:7000]))    #97.9%\n",
    "print(clf_svc.score(X_test[7000:8000], y_test[7000:8000]))    #98.4%\n",
    "print(clf_svc.score(X_test[8000:9000], y_test[8000:9000]))    #98.7%\n",
    "print(clf_svc.score(X_test[9000:12000], y_test[9000:12000]))  #93.7%"
   ]
  }
 ],
 "metadata": {
  "kernelspec": {
   "display_name": "Python 3",
   "language": "python",
   "name": "python3"
  },
  "language_info": {
   "codemirror_mode": {
    "name": "ipython",
    "version": 3
   },
   "file_extension": ".py",
   "mimetype": "text/x-python",
   "name": "python",
   "nbconvert_exporter": "python",
   "pygments_lexer": "ipython3",
   "version": "3.6.5"
  }
 },
 "nbformat": 4,
 "nbformat_minor": 2
}
